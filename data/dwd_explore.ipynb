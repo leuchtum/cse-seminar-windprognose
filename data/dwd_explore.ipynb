{
 "metadata": {
  "language_info": {
   "codemirror_mode": {
    "name": "ipython",
    "version": 3
   },
   "file_extension": ".py",
   "mimetype": "text/x-python",
   "name": "python",
   "nbconvert_exporter": "python",
   "pygments_lexer": "ipython3",
   "version": "3.8.6-final"
  },
  "orig_nbformat": 2,
  "kernelspec": {
   "name": "python38664bitprojectvenv1e1e239b742b458d99858cd52b106e44",
   "display_name": "Python 3.8.6 64-bit ('.projectvenv')",
   "language": "python"
  }
 },
 "nbformat": 4,
 "nbformat_minor": 2,
 "cells": [
  {
   "source": [
    "# Explore DWD Data API\n",
    "\n",
    "```shell\n",
    "pip install dwdweather2\n",
    "pip install pandas\n",
    "```\n"
   ],
   "cell_type": "markdown",
   "metadata": {}
  },
  {
   "cell_type": "code",
   "execution_count": null,
   "metadata": {},
   "outputs": [],
   "source": [
    "from datetime import datetime, timedelta\n",
    "from dwdweather import DwdWeather\n",
    "import pandas as pd\n",
    "import numpy as np"
   ]
  },
  {
   "cell_type": "code",
   "execution_count": null,
   "metadata": {},
   "outputs": [],
   "source": [
    "# Make DwdWeather instances\n",
    "dwd_60m = DwdWeather(resolution=\"hourly\")\n",
    "dwd_10m = DwdWeather(resolution=\"10_minutes\")"
   ]
  },
  {
   "cell_type": "code",
   "execution_count": null,
   "metadata": {},
   "outputs": [],
   "source": [
    "# latitude and longitude Ulm; surrounding stations\n",
    "params = dict()"
   ]
  },
  {
   "cell_type": "code",
   "execution_count": null,
   "metadata": {},
   "outputs": [],
   "source": [
    "class StationList(DwdWeather):\n",
    "    def __init__(self, resolution=\"hourly\", lon=7.0, lat=51.0, surrounding=15000):\n",
    "        super().__init__(resolution)\n",
    "        stations = self.nearest_station(lon=lon, lat=lat, surrounding=surrounding)\n",
    "        self.df = pd.DataFrame(stations)\n",
    "\n",
    "    def get_active_stations(self):\n",
    "        days_since_active = datetime.now() - pd.to_datetime(self.df.date_end, format=\"%Y%m%d\")\n",
    "        bool_index = days_since_active < timedelta(days=7)\n",
    "        active_index = np.where(bool_index)[0]\n",
    "        return self.df.iloc[active_index]\n",
    "\n",
    "    def get_wind_stations(self, actives_only=True, sample_delay=7):\n",
    "        if actives_only:\n",
    "            df = self.get_active_stations()\n",
    "        else:\n",
    "            df = self.df\n",
    "\n",
    "        sample_timestamp = datetime.now() - timedelta(days=sample_delay)\n",
    "        has_winddir = {}\n",
    "        has_windspd = {}\n",
    "\n",
    "        for i in range(len(df)):\n",
    "            station_id = df.iloc[i].station_id\n",
    "            sample = self.query(station_id=station_id, timestamp=sample_timestamp)\n",
    "            if sample:\n",
    "                if sample[\"wind_speed\"]:\n",
    "                    has_windspd[i] = True\n",
    "                if sample[\"wind_direction\"]:\n",
    "                    has_winddir[i] = True\n",
    "\n",
    "        return pd.DataFrame([has_windspd, has_winddir])"
   ]
  },
  {
   "cell_type": "code",
   "execution_count": null,
   "metadata": {},
   "outputs": [],
   "source": [
    "stl = StationList(resolution=\"10_minutes\", lon=9.98, lat=48.40)\n",
    "stl.get_active_stations()"
   ]
  },
  {
   "cell_type": "code",
   "execution_count": null,
   "metadata": {},
   "outputs": [],
   "source": [
    "dwd_10m.query(station_id=15444, timestamp=datetime(2021,1,1,13))"
   ]
  }
 ]
}