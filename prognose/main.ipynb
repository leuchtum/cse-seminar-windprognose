{
 "metadata": {
  "language_info": {
   "codemirror_mode": {
    "name": "ipython",
    "version": 3
   },
   "file_extension": ".py",
   "mimetype": "text/x-python",
   "name": "python",
   "nbconvert_exporter": "python",
   "pygments_lexer": "ipython3",
   "version": "3.9.5"
  },
  "orig_nbformat": 2,
  "kernelspec": {
   "name": "python3",
   "display_name": "Python 3.9.5 64-bit ('.projectvenv': venv)"
  },
  "metadata": {
   "interpreter": {
    "hash": "dea8fe3ec6eb0dda4c59cf307d85b7315cf01b5d4d9c54ca7602c5a7c04d1fae"
   }
  },
  "interpreter": {
   "hash": "dea8fe3ec6eb0dda4c59cf307d85b7315cf01b5d4d9c54ca7602c5a7c04d1fae"
  }
 },
 "nbformat": 4,
 "nbformat_minor": 2,
 "cells": [
  {
   "cell_type": "code",
   "execution_count": 1,
   "metadata": {},
   "outputs": [
    {
     "output_type": "stream",
     "name": "stdout",
     "text": [
      "Session runs on LOCAL MACHINE\n"
     ]
    }
   ],
   "source": [
    "import sys\n",
    "IN_COLAB = 'google.colab' in sys.modules\n",
    "if IN_COLAB:\n",
    "    print(\"Session runs on GOOGLE COLAB\")\n",
    "    !git clone https://github.com/leuchtum/cse-seminar-windprognose.git\n",
    "    !pip install wandb\n",
    "    !pip install pandas --upgrade\n",
    "    sys.path.append('/content/cse-seminar-windprognose/prognose/')\n",
    "else:\n",
    "    print(\"Session runs on LOCAL MACHINE\")"
   ]
  },
  {
   "cell_type": "code",
   "execution_count": 2,
   "metadata": {},
   "outputs": [],
   "source": [
    "import MLForecast.sources\n",
    "import MLForecast.preprocessing as prep\n",
    "import MLForecast.normalize\n",
    "import MLForecast.networks\n",
    "import MLForecast.postprocessing\n",
    "import MLForecast.visualize\n",
    "import MLForecast.config\n",
    "\n",
    "from datetime import datetime\n",
    "import pandas as pd\n",
    "import wandb\n",
    "import pprint"
   ]
  },
  {
   "cell_type": "code",
   "execution_count": null,
   "metadata": {},
   "outputs": [],
   "source": [
    "import tensorflow as tf\n",
    "physical_devices = tf.config.list_physical_devices('GPU')\n",
    "if not physical_devices and IN_COLAB:\n",
    "    raise(\"Switch runtime to GPU runtime\")"
   ]
  },
  {
   "source": [
    "# Login to W&B\n",
    "Only required once per computer uptime!"
   ],
   "cell_type": "markdown",
   "metadata": {}
  },
  {
   "cell_type": "code",
   "execution_count": 3,
   "metadata": {},
   "outputs": [
    {
     "output_type": "stream",
     "name": "stderr",
     "text": [
      "Failed to detect the name of this notebook, you can set it manually with the WANDB_NOTEBOOK_NAME environment variable to enable code saving.\n",
      "\u001b[34m\u001b[1mwandb\u001b[0m: Currently logged in as: \u001b[33mleuchtum\u001b[0m (use `wandb login --relogin` to force relogin)\n"
     ]
    },
    {
     "output_type": "execute_result",
     "data": {
      "text/plain": [
       "True"
      ]
     },
     "metadata": {},
     "execution_count": 3
    }
   ],
   "source": [
    "wandb.login()"
   ]
  },
  {
   "source": [
    "# Set parameters"
   ],
   "cell_type": "markdown",
   "metadata": {}
  },
  {
   "cell_type": "code",
   "execution_count": null,
   "metadata": {},
   "outputs": [],
   "source": [
    "X_WIDTH = 200\n",
    "Y_WIDTH = 12\n",
    "SHIFT = 200\n",
    "INTERPOLATE = 4\n",
    "SPLIT = (.05, .3, .65) # TEST, VAL, TRAIN\n",
    "LABEL_COLUMNS = [\"WX_01886\", \"WY_01886\"]\n",
    "EPOCHS = 10\n",
    "EARLY_STOP = 2\n",
    "\n",
    "structure = [\"LSTM_x\", \"DROP_d\", \"DENSE_y\", \"OUT\"]\n",
    "network_config = {\n",
    "    #\"LSTM\": {\n",
    "    #    \"recurrent_regularizer\": \"L1_0.0001\"\n",
    "    #},\n",
    "    \"x\": 128,\n",
    "    \"y\": 64,\n",
    "    \"d\": 0.3\n",
    "}"
   ]
  },
  {
   "cell_type": "code",
   "execution_count": 4,
   "metadata": {},
   "outputs": [],
   "source": [
    "INTERPOLATE = 4\n",
    "SPLIT = (.05, .3, .65) # TEST, VAL, TRAIN\n",
    "LABEL_COLUMNS = [\"WX_01886\", \"WY_01886\"]\n",
    "\n",
    "# SWEEP\n",
    "sweep_config = MLForecast.config.config\n",
    "\n",
    "# Define constants for database build\n",
    "X_WIDTH = sweep_config[\"parameters\"][\"x_width\"][\"value\"]\n",
    "Y_WIDTH = sweep_config[\"parameters\"][\"y_width\"][\"value\"]\n",
    "SHIFT = sweep_config[\"parameters\"][\"x_width\"][\"value\"]"
   ]
  },
  {
   "source": [
    "# Make Dataset\n",
    "This may take a while"
   ],
   "cell_type": "markdown",
   "metadata": {}
  },
  {
   "cell_type": "code",
   "execution_count": 5,
   "metadata": {},
   "outputs": [
    {
     "output_type": "stream",
     "name": "stdout",
     "text": [
      "LOAD\n",
      "CHECK FOR NEW FILES AT https://opendata.dwd.de/climate_environment/CDC/observations_germany/climate/hourly/\n",
      "100%|██████████| 24/24 [00:00<00:00, 29485.44it/s]\n",
      "04887:   0%|          | 0/8 [00:00<?, ?it/s]DOWNLOAD FILES\n",
      "READ IN\n",
      "04887: 100%|██████████| 8/8 [00:25<00:00,  3.22s/it]\n",
      "01886: 100%|██████████| 4/4 [00:01<00:00,  3.95it/s]\n",
      "02886: 100%|██████████| 6/6 [00:05<00:00,  1.02it/s]\n",
      "03402: 100%|██████████| 6/6 [00:11<00:00,  1.92s/it]\n",
      "INTERPOLATE AND POL2CART\n",
      "FIT NORMALIZER\n",
      "MAKE X_DF AND Y_DF\n",
      "  0%|          | 0/26 [00:00<?, ?it/s]\n",
      "  0%|          | 0/5289 [00:00<?, ?it/s]\u001b[A\n",
      " 12%|█▏        | 626/5289 [00:00<00:00, 6251.02it/s]\u001b[ASAMPLE\n",
      "\n",
      " 24%|██▎       | 1252/5289 [00:00<00:00, 6184.42it/s]\u001b[A\n",
      " 35%|███▌      | 1871/5289 [00:00<00:00, 6167.13it/s]\u001b[A\n",
      " 47%|████▋     | 2488/5289 [00:00<00:00, 5318.89it/s]\u001b[A\n",
      " 57%|█████▋    | 3035/5289 [00:00<00:00, 5128.08it/s]\u001b[A\n",
      " 67%|██████▋   | 3557/5289 [00:00<00:00, 3766.19it/s]\u001b[A\n",
      " 80%|████████  | 4248/5289 [00:00<00:00, 4530.17it/s]\u001b[A\n",
      "100%|██████████| 5289/5289 [00:01<00:00, 4902.67it/s]\n",
      "  4%|▍         | 1/26 [00:01<00:27,  1.08s/it]\n",
      "  0%|          | 0/3091 [00:00<?, ?it/s]\u001b[A\n",
      " 19%|█▉        | 583/3091 [00:00<00:00, 5824.16it/s]\u001b[A\n",
      " 39%|███▉      | 1201/3091 [00:00<00:00, 6030.33it/s]\u001b[A\n",
      " 58%|█████▊    | 1805/3091 [00:00<00:00, 3773.45it/s]\u001b[A\n",
      "100%|██████████| 3091/3091 [00:00<00:00, 4986.36it/s]\n",
      "  8%|▊         | 2/26 [00:01<00:19,  1.23it/s]\n",
      "  0%|          | 0/2139 [00:00<?, ?it/s]\u001b[A\n",
      " 33%|███▎      | 699/2139 [00:00<00:00, 6985.01it/s]\u001b[A\n",
      " 65%|██████▌   | 1398/2139 [00:00<00:00, 6765.56it/s]\u001b[A\n",
      "100%|██████████| 2139/2139 [00:00<00:00, 6378.22it/s]\n",
      " 12%|█▏        | 3/26 [00:02<00:13,  1.68it/s]\n",
      "  0%|          | 0/249 [00:00<?, ?it/s]\u001b[A\n",
      "100%|██████████| 249/249 [00:00<00:00, 1258.12it/s]\n",
      " 15%|█▌        | 4/26 [00:02<00:09,  2.27it/s]\n",
      "  0%|          | 0/1391 [00:00<?, ?it/s]\u001b[A\n",
      " 33%|███▎      | 460/1391 [00:00<00:00, 4582.84it/s]\u001b[A\n",
      "100%|██████████| 1391/1391 [00:00<00:00, 5765.52it/s]\n",
      " 19%|█▉        | 5/26 [00:02<00:07,  2.70it/s]\n",
      "100%|██████████| 417/417 [00:00<00:00, 5358.52it/s]\n",
      "\n",
      "  0%|          | 0/4105 [00:00<?, ?it/s]\u001b[A\n",
      " 16%|█▋        | 669/4105 [00:00<00:00, 6685.18it/s]\u001b[A\n",
      " 33%|███▎      | 1338/4105 [00:00<00:00, 6590.79it/s]\u001b[A\n",
      " 49%|████▊     | 1998/4105 [00:00<00:00, 6407.97it/s]\u001b[A\n",
      " 64%|██████▍   | 2640/4105 [00:00<00:00, 6365.91it/s]\u001b[A\n",
      " 81%|████████  | 3313/4105 [00:00<00:00, 6492.05it/s]\u001b[A\n",
      "100%|██████████| 4105/4105 [00:00<00:00, 5066.88it/s]\n",
      " 27%|██▋       | 7/26 [00:03<00:07,  2.45it/s]\n",
      "  0%|          | 0/1467 [00:00<?, ?it/s]\u001b[A\n",
      " 46%|████▌     | 677/1467 [00:00<00:00, 6765.07it/s]\u001b[A\n",
      "100%|██████████| 1467/1467 [00:00<00:00, 6473.15it/s]\n",
      " 31%|███       | 8/26 [00:03<00:06,  2.77it/s]\n",
      "  0%|          | 0/673 [00:00<?, ?it/s]\u001b[A\n",
      "100%|██████████| 673/673 [00:00<00:00, 6495.75it/s]\n",
      " 35%|███▍      | 9/26 [00:03<00:04,  3.43it/s]\n",
      "  0%|          | 0/1884 [00:00<?, ?it/s]\u001b[A\n",
      " 33%|███▎      | 619/1884 [00:00<00:00, 6184.20it/s]\u001b[A\n",
      "100%|██████████| 1884/1884 [00:00<00:00, 6052.58it/s]\n",
      " 38%|███▊      | 10/26 [00:04<00:04,  3.36it/s]\n",
      "100%|██████████| 176/176 [00:00<00:00, 3794.54it/s]\n",
      "\n",
      "100%|██████████| 149/149 [00:00<00:00, 4251.63it/s]\n",
      "\n",
      "  0%|          | 0/1555 [00:00<?, ?it/s]\u001b[A\n",
      " 40%|███▉      | 619/1555 [00:00<00:00, 6186.51it/s]\u001b[A\n",
      "100%|██████████| 1555/1555 [00:00<00:00, 3324.04it/s]\n",
      " 50%|█████     | 13/26 [00:04<00:03,  4.23it/s]\n",
      "100%|██████████| 365/365 [00:00<00:00, 4619.18it/s]\n",
      "\n",
      "  0%|          | 0/1522 [00:00<?, ?it/s]\u001b[A\n",
      " 44%|████▎     | 663/1522 [00:00<00:00, 6627.68it/s]\u001b[A\n",
      "100%|██████████| 1522/1522 [00:00<00:00, 6492.03it/s]\n",
      " 58%|█████▊    | 15/26 [00:04<00:02,  4.76it/s]\n",
      "100%|██████████| 364/364 [00:00<00:00, 5387.88it/s]\n",
      "\n",
      "100%|██████████| 425/425 [00:00<00:00, 4903.66it/s]\n",
      " 65%|██████▌   | 17/26 [00:05<00:01,  5.98it/s]\n",
      "  0%|          | 0/1515 [00:00<?, ?it/s]\u001b[A\n",
      " 41%|████      | 619/1515 [00:00<00:00, 6180.05it/s]\u001b[A\n",
      "100%|██████████| 1515/1515 [00:00<00:00, 6041.52it/s]\n",
      " 69%|██████▉   | 18/26 [00:05<00:01,  5.44it/s]\n",
      "  0%|          | 0/1799 [00:00<?, ?it/s]\u001b[A\n",
      " 35%|███▍      | 622/1799 [00:00<00:00, 6213.92it/s]\u001b[A\n",
      "100%|██████████| 1799/1799 [00:00<00:00, 6131.06it/s]\n",
      " 73%|███████▎  | 19/26 [00:05<00:01,  4.81it/s]\n",
      "  0%|          | 0/579 [00:00<?, ?it/s]\u001b[A\n",
      "100%|██████████| 579/579 [00:00<00:00, 5616.97it/s]\n",
      " 77%|███████▋  | 20/26 [00:05<00:01,  5.43it/s]\n",
      "  0%|          | 0/1748 [00:00<?, ?it/s]\u001b[A\n",
      " 30%|███       | 530/1748 [00:00<00:00, 5298.82it/s]\u001b[A\n",
      " 66%|██████▌   | 1152/1748 [00:00<00:00, 5837.70it/s]\u001b[A\n",
      "100%|██████████| 1748/1748 [00:00<00:00, 2982.27it/s]\n",
      " 81%|████████  | 21/26 [00:06<00:01,  3.50it/s]\n",
      "100%|██████████| 31/31 [00:00<00:00, 5797.89it/s]\n",
      "\n",
      "100%|██████████| 85/85 [00:00<00:00, 6322.55it/s]\n",
      "\n",
      "100%|██████████| 427/427 [00:00<00:00, 6145.97it/s]\n",
      "\n",
      "100%|██████████| 431/431 [00:00<00:00, 5595.09it/s]\n",
      " 96%|█████████▌| 25/26 [00:06<00:00,  6.98it/s]\n",
      "100%|██████████| 87/87 [00:00<00:00, 4771.43it/s]\n",
      "100%|██████████| 26/26 [00:06<00:00,  3.99it/s]\n",
      "SPLIT\n"
     ]
    }
   ],
   "source": [
    "print(\"LOAD\")\n",
    "dwd = MLForecast.sources.DWDStationsHourly([\"04887\", \"01886\", \"02886\", \"03402\"], [\"wind\", \"air_temperature\", \"pressure\", \"sun\"])\n",
    "df_dwd = dwd.get_data(drop_before=datetime(2010,1,1))\n",
    "cal = MLForecast.sources.CalendricalDataHourly(start=datetime(2010,1,1))\n",
    "df_cal = cal.get_data()\n",
    "\n",
    "df = pd.concat([df_dwd, df_cal], axis=1)\n",
    "\n",
    "\n",
    "print(\"INTERPOLATE AND POL2CART\")\n",
    "df = prep.interpolate_columnwise(df, INTERPOLATE)\n",
    "df =  prep.pol2cart(df)\n",
    "\n",
    "print(\"FIT NORMALIZER\")\n",
    "spezial_borders = {\n",
    "    \"WX\": (-1, 1),\n",
    "    \"WY\": (-1, 1)\n",
    "}\n",
    "exclude = [\"CAL\"]\n",
    "norm = MLForecast.normalize.MinMaxNormalizer(spezial_border=spezial_borders, exclude=exclude)\n",
    "norm.fit(df)\n",
    "\n",
    "print(\"MAKE X_DF AND Y_DF\")\n",
    "df_x = norm.normalize(df)\n",
    "df_y = df[LABEL_COLUMNS]\n",
    "\n",
    "print(\"SAMPLE\")\n",
    "x, y =  prep.sample_sequences(df_x, df_y, X_WIDTH, Y_WIDTH, SHIFT)\n",
    "\n",
    "\n",
    "print(\"SPLIT\")\n",
    "test, val, train =  prep.split_test_val_train(x, y, SPLIT)\n",
    "\n",
    "test_np =  prep.df_tuple_to_np(test)\n",
    "val_np =  prep.df_tuple_to_np(val)\n",
    "train_np =  prep.df_tuple_to_np(train)"
   ]
  },
  {
   "cell_type": "code",
   "execution_count": null,
   "metadata": {},
   "outputs": [],
   "source": [
    "MLForecast.visualize.plot_input_label_example(x[30], y[30])"
   ]
  },
  {
   "source": [
    "# Init W&B"
   ],
   "cell_type": "markdown",
   "metadata": {}
  },
  {
   "cell_type": "code",
   "execution_count": null,
   "metadata": {},
   "outputs": [],
   "source": [
    "database_report =  prep.DataBaseReport(df_x, df_y, x, y, SHIFT, SPLIT).report()\n",
    "\n",
    "wandb_config = {\n",
    "    \"structure\":structure,\n",
    "    \"config\":network_config,\n",
    "    \"database\": database_report,\n",
    "    \"epochs\": EPOCHS,\n",
    "    \"early_stop\": EARLY_STOP,\n",
    "}\n",
    "\n",
    "wandb.init(\n",
    "    project='windprognose',\n",
    "    entity='leuchtum',\n",
    "    notes=\"test\",\n",
    "    config=wandb_config,\n",
    ")"
   ]
  },
  {
   "cell_type": "code",
   "execution_count": 6,
   "metadata": {},
   "outputs": [],
   "source": [
    "# SWEEP\n",
    "#sweep_id = wandb.sweep(sweep_config)\n",
    "sweep_id = \"djxy5uvf\""
   ]
  },
  {
   "source": [
    "# Build and train model"
   ],
   "cell_type": "markdown",
   "metadata": {}
  },
  {
   "cell_type": "code",
   "execution_count": null,
   "metadata": {},
   "outputs": [],
   "source": [
    "my_model = MLForecast.networks.LSTMseq2vec(structure, network_config)\n",
    "my_model.set_input_shape(train[0][0].shape)\n",
    "my_model.set_output_shape(train[1][0].shape)\n",
    "my_model.build()\n",
    "my_model.compile()\n",
    "\n",
    "my_model.fit(train_np, val_np, early_stop=EARLY_STOP, epochs=EPOCHS, track_wandb=True)"
   ]
  },
  {
   "cell_type": "code",
   "execution_count": 7,
   "metadata": {},
   "outputs": [],
   "source": [
    "def sweep_train():\n",
    "    with wandb.init() as run:\n",
    "        config = wandb.config\n",
    "        l2 = config[\"l2\"]\n",
    "        structure = config[\"structure\"].split(\"+\")\n",
    "        network_config = {\n",
    "            \"x\": config[\"x\"],\n",
    "            \"y\": int(config[\"x\"]/2),\n",
    "            \"d\": config[\"d\"],\n",
    "            \"LSTM\":{\n",
    "                \"recurrent_regularizer\": f\"L2_{l2}\",\n",
    "                \"activity_regularizer\": f\"L2_{l2}\"\n",
    "            }\n",
    "        }\n",
    "\n",
    "        my_model = MLForecast.networks.LSTMseq2vec(structure, network_config)\n",
    "        my_model.set_input_shape(train[0][0].shape)\n",
    "        my_model.set_output_shape(train[1][0].shape)\n",
    "        my_model.build()\n",
    "        my_model.compile()\n",
    "\n",
    "        my_model.fit(\n",
    "             train_np,\n",
    "             val_np,\n",
    "             early_stop=config[\"early_stop\"],\n",
    "             epochs=config[\"epochs\"],\n",
    "             track_wandb=True\n",
    "        )"
   ]
  },
  {
   "cell_type": "code",
   "execution_count": 8,
   "metadata": {},
   "outputs": [
    {
     "output_type": "stream",
     "name": "stderr",
     "text": [
      "\u001b[34m\u001b[1mwandb\u001b[0m: Agent Starting Run: kiqxkc3w with config:\n",
      "\u001b[34m\u001b[1mwandb\u001b[0m: \td: 0.35\n",
      "\u001b[34m\u001b[1mwandb\u001b[0m: \tearly_stop: 20\n",
      "\u001b[34m\u001b[1mwandb\u001b[0m: \tepochs: 200\n",
      "\u001b[34m\u001b[1mwandb\u001b[0m: \tl2: 1e-06\n",
      "\u001b[34m\u001b[1mwandb\u001b[0m: \tloss: mae\n",
      "\u001b[34m\u001b[1mwandb\u001b[0m: \tstructure: LSTM_x+DROP_d+LSTM_y+DROP_d+DENSE_y+OUT\n",
      "\u001b[34m\u001b[1mwandb\u001b[0m: \tx: 32\n",
      "\u001b[34m\u001b[1mwandb\u001b[0m: \tx_width: 96\n",
      "\u001b[34m\u001b[1mwandb\u001b[0m: \ty_width: 12\n",
      "Failed to detect the name of this notebook, you can set it manually with the WANDB_NOTEBOOK_NAME environment variable to enable code saving.\n",
      "\u001b[34m\u001b[1mwandb\u001b[0m: wandb version 0.10.32 is available!  To upgrade, please run:\n",
      "\u001b[34m\u001b[1mwandb\u001b[0m:  $ pip install wandb --upgrade\n"
     ]
    },
    {
     "output_type": "display_data",
     "data": {
      "text/plain": "<IPython.core.display.HTML object>",
      "text/html": "\n                Tracking run with wandb version 0.10.30<br/>\n                Syncing run <strong style=\"color:#cdcd00\">noble-hill-8</strong> to <a href=\"https://wandb.ai\" target=\"_blank\">Weights & Biases</a> <a href=\"https://docs.wandb.com/integrations/jupyter.html\" target=\"_blank\">(Documentation)</a>.<br/>\n                Project page: <a href=\"https://wandb.ai/leuchtum/cse-seminar-windprognose-prognose\" target=\"_blank\">https://wandb.ai/leuchtum/cse-seminar-windprognose-prognose</a><br/>\n                Run page: <a href=\"https://wandb.ai/leuchtum/cse-seminar-windprognose-prognose/runs/kiqxkc3w\" target=\"_blank\">https://wandb.ai/leuchtum/cse-seminar-windprognose-prognose/runs/kiqxkc3w</a><br/>\n                Run data is saved locally in <code>/home/daniel/Seafile/Studium/Master/2_SoSe-2021/4_Seminar/cse-seminar-windprognose/prognose/wandb/run-20210629_144027-kiqxkc3w</code><br/><br/>\n            "
     },
     "metadata": {}
    },
    {
     "output_type": "stream",
     "name": "stdout",
     "text": [
      "Epoch 1/200\n",
      "WARNING:tensorflow:Gradients do not exist for variables ['dense/kernel:0', 'dense/bias:0', 'out_dense/kernel:0', 'out_dense/bias:0'] when minimizing the loss.\n",
      "WARNING:tensorflow:Gradients do not exist for variables ['dense/kernel:0', 'dense/bias:0', 'out_dense/kernel:0', 'out_dense/bias:0'] when minimizing the loss.\n",
      "700/700 [==============================] - 63s 84ms/step - loss: 5.8387 - root_mean_squared_error: 2.4288 - mean_absolute_error: 1.8768 - mean_squared_error: 5.8993 - val_loss: 5.8943 - val_root_mean_squared_error: 2.2489 - val_mean_absolute_error: 1.7550 - val_mean_squared_error: 5.0573\n",
      "Epoch 2/200\n",
      "700/700 [==============================] - 55s 79ms/step - loss: 5.8485 - root_mean_squared_error: 2.4282 - mean_absolute_error: 1.8760 - mean_squared_error: 5.8964 - val_loss: 5.8943 - val_root_mean_squared_error: 2.2489 - val_mean_absolute_error: 1.7549 - val_mean_squared_error: 5.0574\n",
      "Epoch 3/200\n",
      "700/700 [==============================] - 57s 81ms/step - loss: 5.9118 - root_mean_squared_error: 2.4282 - mean_absolute_error: 1.8760 - mean_squared_error: 5.8963 - val_loss: 5.8943 - val_root_mean_squared_error: 2.2489 - val_mean_absolute_error: 1.7549 - val_mean_squared_error: 5.0574\n",
      "Epoch 4/200\n",
      "700/700 [==============================] - 62s 89ms/step - loss: 5.9426 - root_mean_squared_error: 2.4282 - mean_absolute_error: 1.8759 - mean_squared_error: 5.8963 - val_loss: 5.8943 - val_root_mean_squared_error: 2.2489 - val_mean_absolute_error: 1.7549 - val_mean_squared_error: 5.0573\n",
      "Epoch 5/200\n",
      "700/700 [==============================] - 58s 83ms/step - loss: 5.8354 - root_mean_squared_error: 2.4282 - mean_absolute_error: 1.8759 - mean_squared_error: 5.8962 - val_loss: 5.8944 - val_root_mean_squared_error: 2.2489 - val_mean_absolute_error: 1.7549 - val_mean_squared_error: 5.0573\n",
      "Epoch 6/200\n",
      "700/700 [==============================] - 58s 82ms/step - loss: 5.9422 - root_mean_squared_error: 2.4282 - mean_absolute_error: 1.8759 - mean_squared_error: 5.8962 - val_loss: 5.8944 - val_root_mean_squared_error: 2.2489 - val_mean_absolute_error: 1.7548 - val_mean_squared_error: 5.0574\n",
      "Epoch 7/200\n",
      "700/700 [==============================] - 56s 81ms/step - loss: 5.8239 - root_mean_squared_error: 2.4282 - mean_absolute_error: 1.8759 - mean_squared_error: 5.8962 - val_loss: 5.8945 - val_root_mean_squared_error: 2.2489 - val_mean_absolute_error: 1.7548 - val_mean_squared_error: 5.0574\n",
      "Epoch 8/200\n",
      "700/700 [==============================] - 58s 83ms/step - loss: 5.9287 - root_mean_squared_error: 2.4282 - mean_absolute_error: 1.8759 - mean_squared_error: 5.8962 - val_loss: 5.8945 - val_root_mean_squared_error: 2.2489 - val_mean_absolute_error: 1.7548 - val_mean_squared_error: 5.0574\n",
      "Epoch 9/200\n",
      "700/700 [==============================] - 59s 85ms/step - loss: 5.8282 - root_mean_squared_error: 2.4282 - mean_absolute_error: 1.8759 - mean_squared_error: 5.8962 - val_loss: 5.8945 - val_root_mean_squared_error: 2.2489 - val_mean_absolute_error: 1.7548 - val_mean_squared_error: 5.0574\n",
      "Epoch 10/200\n",
      "700/700 [==============================] - 52s 74ms/step - loss: 5.9257 - root_mean_squared_error: 2.4282 - mean_absolute_error: 1.8759 - mean_squared_error: 5.8962 - val_loss: 5.8945 - val_root_mean_squared_error: 2.2489 - val_mean_absolute_error: 1.7548 - val_mean_squared_error: 5.0574\n",
      "Epoch 11/200\n",
      "700/700 [==============================] - 52s 75ms/step - loss: 5.9066 - root_mean_squared_error: 2.4282 - mean_absolute_error: 1.8759 - mean_squared_error: 5.8962 - val_loss: 5.8945 - val_root_mean_squared_error: 2.2489 - val_mean_absolute_error: 1.7548 - val_mean_squared_error: 5.0574\n",
      "Epoch 12/200\n",
      "700/700 [==============================] - 53s 76ms/step - loss: 5.8598 - root_mean_squared_error: 2.4282 - mean_absolute_error: 1.8759 - mean_squared_error: 5.8962 - val_loss: 5.8945 - val_root_mean_squared_error: 2.2489 - val_mean_absolute_error: 1.7548 - val_mean_squared_error: 5.0574\n",
      "Epoch 13/200\n",
      "700/700 [==============================] - 55s 78ms/step - loss: 5.7944 - root_mean_squared_error: 2.4282 - mean_absolute_error: 1.8759 - mean_squared_error: 5.8962 - val_loss: 5.8945 - val_root_mean_squared_error: 2.2489 - val_mean_absolute_error: 1.7548 - val_mean_squared_error: 5.0574\n",
      "Epoch 14/200\n",
      "700/700 [==============================] - 53s 76ms/step - loss: 5.8551 - root_mean_squared_error: 2.4282 - mean_absolute_error: 1.8759 - mean_squared_error: 5.8962 - val_loss: 5.8945 - val_root_mean_squared_error: 2.2489 - val_mean_absolute_error: 1.7548 - val_mean_squared_error: 5.0574\n",
      "Epoch 15/200\n",
      "700/700 [==============================] - 54s 77ms/step - loss: 5.8336 - root_mean_squared_error: 2.4282 - mean_absolute_error: 1.8759 - mean_squared_error: 5.8962 - val_loss: 5.8945 - val_root_mean_squared_error: 2.2489 - val_mean_absolute_error: 1.7548 - val_mean_squared_error: 5.0574\n",
      "Epoch 16/200\n",
      "700/700 [==============================] - 56s 79ms/step - loss: 5.9046 - root_mean_squared_error: 2.4282 - mean_absolute_error: 1.8759 - mean_squared_error: 5.8962 - val_loss: 5.8945 - val_root_mean_squared_error: 2.2489 - val_mean_absolute_error: 1.7548 - val_mean_squared_error: 5.0574\n",
      "Epoch 17/200\n",
      "700/700 [==============================] - 53s 76ms/step - loss: 5.8564 - root_mean_squared_error: 2.4282 - mean_absolute_error: 1.8758 - mean_squared_error: 5.8962 - val_loss: 5.8945 - val_root_mean_squared_error: 2.2489 - val_mean_absolute_error: 1.7548 - val_mean_squared_error: 5.0574\n",
      "Epoch 18/200\n",
      "700/700 [==============================] - 54s 77ms/step - loss: 5.8384 - root_mean_squared_error: 2.4282 - mean_absolute_error: 1.8758 - mean_squared_error: 5.8962 - val_loss: 5.8945 - val_root_mean_squared_error: 2.2489 - val_mean_absolute_error: 1.7548 - val_mean_squared_error: 5.0574\n",
      "Epoch 19/200\n",
      "700/700 [==============================] - 55s 78ms/step - loss: 5.8781 - root_mean_squared_error: 2.4282 - mean_absolute_error: 1.8758 - mean_squared_error: 5.8962 - val_loss: 5.8945 - val_root_mean_squared_error: 2.2489 - val_mean_absolute_error: 1.7548 - val_mean_squared_error: 5.0574\n",
      "Epoch 20/200\n",
      "700/700 [==============================] - 55s 79ms/step - loss: 5.9453 - root_mean_squared_error: 2.4282 - mean_absolute_error: 1.8758 - mean_squared_error: 5.8962 - val_loss: 5.8945 - val_root_mean_squared_error: 2.2489 - val_mean_absolute_error: 1.7548 - val_mean_squared_error: 5.0574\n",
      "Epoch 21/200\n",
      "700/700 [==============================] - 56s 80ms/step - loss: 5.9307 - root_mean_squared_error: 2.4282 - mean_absolute_error: 1.8758 - mean_squared_error: 5.8962 - val_loss: 5.8945 - val_root_mean_squared_error: 2.2489 - val_mean_absolute_error: 1.7548 - val_mean_squared_error: 5.0574\n",
      "Run pip install nbformat to save notebook history\n"
     ]
    },
    {
     "output_type": "display_data",
     "data": {
      "text/plain": "<IPython.core.display.HTML object>",
      "text/html": "<br/>Waiting for W&B process to finish, PID 30925<br/>Program ended successfully."
     },
     "metadata": {}
    },
    {
     "output_type": "display_data",
     "data": {
      "text/plain": "<IPython.core.display.HTML object>",
      "text/html": "Find user logs for this run at: <code>/home/daniel/Seafile/Studium/Master/2_SoSe-2021/4_Seminar/cse-seminar-windprognose/prognose/wandb/run-20210629_144027-kiqxkc3w/logs/debug.log</code>"
     },
     "metadata": {}
    },
    {
     "output_type": "display_data",
     "data": {
      "text/plain": "<IPython.core.display.HTML object>",
      "text/html": "Find internal logs for this run at: <code>/home/daniel/Seafile/Studium/Master/2_SoSe-2021/4_Seminar/cse-seminar-windprognose/prognose/wandb/run-20210629_144027-kiqxkc3w/logs/debug-internal.log</code>"
     },
     "metadata": {}
    },
    {
     "output_type": "display_data",
     "data": {
      "text/plain": "<IPython.core.display.HTML object>",
      "text/html": "<h3>Run summary:</h3><br/><style>\n    table.wandb td:nth-child(1) { padding: 0 10px; text-align: right }\n    </style><table class=\"wandb\">\n<tr><td>epoch</td><td>20</td></tr><tr><td>loss</td><td>5.93071</td></tr><tr><td>root_mean_squared_error</td><td>2.42821</td></tr><tr><td>mean_absolute_error</td><td>1.87585</td></tr><tr><td>mean_squared_error</td><td>5.89622</td></tr><tr><td>val_loss</td><td>5.89453</td></tr><tr><td>val_root_mean_squared_error</td><td>2.24886</td></tr><tr><td>val_mean_absolute_error</td><td>1.75482</td></tr><tr><td>val_mean_squared_error</td><td>5.05736</td></tr><tr><td>_runtime</td><td>1179</td></tr><tr><td>_timestamp</td><td>1624971606</td></tr><tr><td>_step</td><td>20</td></tr><tr><td>best_val_loss</td><td>5.89427</td></tr><tr><td>best_epoch</td><td>0</td></tr></table>"
     },
     "metadata": {}
    },
    {
     "output_type": "display_data",
     "data": {
      "text/plain": "<IPython.core.display.HTML object>",
      "text/html": "<h3>Run history:</h3><br/><style>\n    table.wandb td:nth-child(1) { padding: 0 10px; text-align: right }\n    </style><table class=\"wandb\">\n<tr><td>epoch</td><td>▁▁▂▂▂▃▃▃▄▄▅▅▅▆▆▆▇▇▇██</td></tr><tr><td>loss</td><td>▃▄▆█▃█▂▇▃▇▆▄▁▄▃▆▄▃▅█▇</td></tr><tr><td>root_mean_squared_error</td><td>█▁▁▁▁▁▁▁▁▁▁▁▁▁▁▁▁▁▁▁▁</td></tr><tr><td>mean_absolute_error</td><td>█▂▂▁▁▁▁▁▁▁▁▁▁▁▁▁▁▁▁▁▁</td></tr><tr><td>mean_squared_error</td><td>█▁▁▁▁▁▁▁▁▁▁▁▁▁▁▁▁▁▁▁▁</td></tr><tr><td>val_loss</td><td>▁▂▂▃▄▅▆▆▇▇▇▇▇████████</td></tr><tr><td>val_root_mean_squared_error</td><td>▁█▅▂▃▄▅▄▆▄▆▆▅▅▅▅▆▆▅▅▅</td></tr><tr><td>val_mean_absolute_error</td><td>█▅▃▃▂▂▂▂▂▁▁▁▁▁▁▁▁▁▁▁▁</td></tr><tr><td>val_mean_squared_error</td><td>▁█▅▂▃▄▅▄▆▄▅▅▅▅▅▅▆▆▅▅▅</td></tr><tr><td>_runtime</td><td>▁▁▂▂▂▃▃▄▄▄▅▅▅▆▆▆▇▇▇██</td></tr><tr><td>_timestamp</td><td>▁▁▂▂▂▃▃▄▄▄▅▅▅▆▆▆▇▇▇██</td></tr><tr><td>_step</td><td>▁▁▂▂▂▃▃▃▄▄▅▅▅▆▆▆▇▇▇██</td></tr></table><br/>"
     },
     "metadata": {}
    },
    {
     "output_type": "display_data",
     "data": {
      "text/plain": "<IPython.core.display.HTML object>",
      "text/html": "Synced 5 W&B file(s), 1 media file(s), 0 artifact file(s) and 1 other file(s)"
     },
     "metadata": {}
    },
    {
     "output_type": "display_data",
     "data": {
      "text/plain": "<IPython.core.display.HTML object>",
      "text/html": "\n                    <br/>Synced <strong style=\"color:#cdcd00\">noble-hill-8</strong>: <a href=\"https://wandb.ai/leuchtum/cse-seminar-windprognose-prognose/runs/kiqxkc3w\" target=\"_blank\">https://wandb.ai/leuchtum/cse-seminar-windprognose-prognose/runs/kiqxkc3w</a><br/>\n                "
     },
     "metadata": {}
    },
    {
     "output_type": "stream",
     "name": "stderr",
     "text": [
      "\u001b[34m\u001b[1mwandb\u001b[0m: Agent Starting Run: a8ue6zz4 with config:\n",
      "\u001b[34m\u001b[1mwandb\u001b[0m: \td: 0.15\n",
      "\u001b[34m\u001b[1mwandb\u001b[0m: \tearly_stop: 20\n",
      "\u001b[34m\u001b[1mwandb\u001b[0m: \tepochs: 200\n",
      "\u001b[34m\u001b[1mwandb\u001b[0m: \tl2: 5e-05\n",
      "\u001b[34m\u001b[1mwandb\u001b[0m: \tloss: mse\n",
      "\u001b[34m\u001b[1mwandb\u001b[0m: \tstructure: LSTM_x+DROP_d+LSTM_x+DROP_d+DENSE_y+OUT\n",
      "\u001b[34m\u001b[1mwandb\u001b[0m: \tx: 256\n",
      "\u001b[34m\u001b[1mwandb\u001b[0m: \tx_width: 96\n",
      "\u001b[34m\u001b[1mwandb\u001b[0m: \ty_width: 12\n",
      "Failed to detect the name of this notebook, you can set it manually with the WANDB_NOTEBOOK_NAME environment variable to enable code saving.\n",
      "\u001b[34m\u001b[1mwandb\u001b[0m: wandb version 0.10.32 is available!  To upgrade, please run:\n",
      "\u001b[34m\u001b[1mwandb\u001b[0m:  $ pip install wandb --upgrade\n"
     ]
    },
    {
     "output_type": "display_data",
     "data": {
      "text/plain": "<IPython.core.display.HTML object>",
      "text/html": "\n                Tracking run with wandb version 0.10.30<br/>\n                Syncing run <strong style=\"color:#cdcd00\">comic-shape-9</strong> to <a href=\"https://wandb.ai\" target=\"_blank\">Weights & Biases</a> <a href=\"https://docs.wandb.com/integrations/jupyter.html\" target=\"_blank\">(Documentation)</a>.<br/>\n                Project page: <a href=\"https://wandb.ai/leuchtum/cse-seminar-windprognose-prognose\" target=\"_blank\">https://wandb.ai/leuchtum/cse-seminar-windprognose-prognose</a><br/>\n                Run page: <a href=\"https://wandb.ai/leuchtum/cse-seminar-windprognose-prognose/runs/a8ue6zz4\" target=\"_blank\">https://wandb.ai/leuchtum/cse-seminar-windprognose-prognose/runs/a8ue6zz4</a><br/>\n                Run data is saved locally in <code>/home/daniel/Seafile/Studium/Master/2_SoSe-2021/4_Seminar/cse-seminar-windprognose/prognose/wandb/run-20210629_150010-a8ue6zz4</code><br/><br/>\n            "
     },
     "metadata": {}
    },
    {
     "output_type": "stream",
     "name": "stdout",
     "text": [
      "Epoch 1/200\n",
      "WARNING:tensorflow:Gradients do not exist for variables ['dense/kernel:0', 'dense/bias:0', 'out_dense/kernel:0', 'out_dense/bias:0'] when minimizing the loss.\n",
      "WARNING:tensorflow:Gradients do not exist for variables ['dense/kernel:0', 'dense/bias:0', 'out_dense/kernel:0', 'out_dense/bias:0'] when minimizing the loss.\n",
      "700/700 [==============================] - 344s 486ms/step - loss: 5.9096 - root_mean_squared_error: 2.4283 - mean_absolute_error: 1.8761 - mean_squared_error: 5.8965 - val_loss: 5.8949 - val_root_mean_squared_error: 2.2489 - val_mean_absolute_error: 1.7549 - val_mean_squared_error: 5.0574\n",
      "Epoch 2/200\n",
      "700/700 [==============================] - 353s 504ms/step - loss: 5.8969 - root_mean_squared_error: 2.4282 - mean_absolute_error: 1.8759 - mean_squared_error: 5.8963 - val_loss: 5.8946 - val_root_mean_squared_error: 2.2489 - val_mean_absolute_error: 1.7548 - val_mean_squared_error: 5.0574\n",
      "Epoch 3/200\n",
      "700/700 [==============================] - 394s 563ms/step - loss: 5.8938 - root_mean_squared_error: 2.4282 - mean_absolute_error: 1.8759 - mean_squared_error: 5.8962 - val_loss: 5.8946 - val_root_mean_squared_error: 2.2489 - val_mean_absolute_error: 1.7548 - val_mean_squared_error: 5.0574\n",
      "Epoch 4/200\n",
      "700/700 [==============================] - 389s 556ms/step - loss: 5.8918 - root_mean_squared_error: 2.4282 - mean_absolute_error: 1.8759 - mean_squared_error: 5.8962 - val_loss: 5.8946 - val_root_mean_squared_error: 2.2489 - val_mean_absolute_error: 1.7548 - val_mean_squared_error: 5.0574\n",
      "Epoch 5/200\n",
      "700/700 [==============================] - 365s 522ms/step - loss: 5.9506 - root_mean_squared_error: 2.4282 - mean_absolute_error: 1.8758 - mean_squared_error: 5.8962 - val_loss: 5.8945 - val_root_mean_squared_error: 2.2489 - val_mean_absolute_error: 1.7548 - val_mean_squared_error: 5.0573\n",
      "Epoch 6/200\n",
      "700/700 [==============================] - 352s 503ms/step - loss: 5.8748 - root_mean_squared_error: 2.4282 - mean_absolute_error: 1.8758 - mean_squared_error: 5.8962 - val_loss: 5.8945 - val_root_mean_squared_error: 2.2489 - val_mean_absolute_error: 1.7548 - val_mean_squared_error: 5.0574\n",
      "Epoch 7/200\n",
      "700/700 [==============================] - 336s 479ms/step - loss: 5.9670 - root_mean_squared_error: 2.4282 - mean_absolute_error: 1.8758 - mean_squared_error: 5.8962 - val_loss: 5.8945 - val_root_mean_squared_error: 2.2489 - val_mean_absolute_error: 1.7548 - val_mean_squared_error: 5.0574\n",
      "Epoch 8/200\n",
      "700/700 [==============================] - 344s 492ms/step - loss: 5.9534 - root_mean_squared_error: 2.4282 - mean_absolute_error: 1.8758 - mean_squared_error: 5.8962 - val_loss: 5.8945 - val_root_mean_squared_error: 2.2489 - val_mean_absolute_error: 1.7548 - val_mean_squared_error: 5.0574\n",
      "Epoch 9/200\n",
      "700/700 [==============================] - 340s 486ms/step - loss: 5.8744 - root_mean_squared_error: 2.4282 - mean_absolute_error: 1.8758 - mean_squared_error: 5.8962 - val_loss: 5.8945 - val_root_mean_squared_error: 2.2488 - val_mean_absolute_error: 1.7548 - val_mean_squared_error: 5.0573\n",
      "Epoch 10/200\n",
      "700/700 [==============================] - 391s 558ms/step - loss: 5.9039 - root_mean_squared_error: 2.4282 - mean_absolute_error: 1.8758 - mean_squared_error: 5.8962 - val_loss: 5.8945 - val_root_mean_squared_error: 2.2489 - val_mean_absolute_error: 1.7548 - val_mean_squared_error: 5.0573\n",
      "Epoch 11/200\n",
      "700/700 [==============================] - 344s 492ms/step - loss: 5.8426 - root_mean_squared_error: 2.4282 - mean_absolute_error: 1.8758 - mean_squared_error: 5.8962 - val_loss: 5.8945 - val_root_mean_squared_error: 2.2488 - val_mean_absolute_error: 1.7548 - val_mean_squared_error: 5.0573\n",
      "Epoch 12/200\n",
      "700/700 [==============================] - 353s 504ms/step - loss: 5.9020 - root_mean_squared_error: 2.4282 - mean_absolute_error: 1.8758 - mean_squared_error: 5.8962 - val_loss: 5.8945 - val_root_mean_squared_error: 2.2489 - val_mean_absolute_error: 1.7548 - val_mean_squared_error: 5.0573\n",
      "Epoch 13/200\n",
      "700/700 [==============================] - 358s 511ms/step - loss: 5.8882 - root_mean_squared_error: 2.4282 - mean_absolute_error: 1.8758 - mean_squared_error: 5.8962 - val_loss: 5.8945 - val_root_mean_squared_error: 2.2488 - val_mean_absolute_error: 1.7548 - val_mean_squared_error: 5.0573\n",
      "Epoch 14/200\n",
      "700/700 [==============================] - 361s 515ms/step - loss: 5.9326 - root_mean_squared_error: 2.4282 - mean_absolute_error: 1.8758 - mean_squared_error: 5.8962 - val_loss: 5.8945 - val_root_mean_squared_error: 2.2489 - val_mean_absolute_error: 1.7548 - val_mean_squared_error: 5.0573\n",
      "Epoch 15/200\n",
      "700/700 [==============================] - 342s 489ms/step - loss: 5.8295 - root_mean_squared_error: 2.4282 - mean_absolute_error: 1.8758 - mean_squared_error: 5.8962 - val_loss: 5.8945 - val_root_mean_squared_error: 2.2489 - val_mean_absolute_error: 1.7548 - val_mean_squared_error: 5.0573\n",
      "Epoch 16/200\n",
      "700/700 [==============================] - 336s 480ms/step - loss: 5.9054 - root_mean_squared_error: 2.4282 - mean_absolute_error: 1.8758 - mean_squared_error: 5.8962 - val_loss: 5.8945 - val_root_mean_squared_error: 2.2489 - val_mean_absolute_error: 1.7548 - val_mean_squared_error: 5.0573\n",
      "Epoch 17/200\n",
      "700/700 [==============================] - 327s 468ms/step - loss: 5.8123 - root_mean_squared_error: 2.4282 - mean_absolute_error: 1.8758 - mean_squared_error: 5.8962 - val_loss: 5.8945 - val_root_mean_squared_error: 2.2489 - val_mean_absolute_error: 1.7548 - val_mean_squared_error: 5.0573\n",
      "Epoch 18/200\n",
      "700/700 [==============================] - 344s 492ms/step - loss: 6.0472 - root_mean_squared_error: 2.4282 - mean_absolute_error: 1.8758 - mean_squared_error: 5.8962 - val_loss: 5.8945 - val_root_mean_squared_error: 2.2489 - val_mean_absolute_error: 1.7548 - val_mean_squared_error: 5.0573\n",
      "Epoch 19/200\n",
      "700/700 [==============================] - 374s 534ms/step - loss: 5.8985 - root_mean_squared_error: 2.4282 - mean_absolute_error: 1.8758 - mean_squared_error: 5.8962 - val_loss: 5.8945 - val_root_mean_squared_error: 2.2489 - val_mean_absolute_error: 1.7548 - val_mean_squared_error: 5.0573\n",
      "Epoch 20/200\n",
      "700/700 [==============================] - 347s 496ms/step - loss: 5.9075 - root_mean_squared_error: 2.4282 - mean_absolute_error: 1.8758 - mean_squared_error: 5.8962 - val_loss: 5.8945 - val_root_mean_squared_error: 2.2489 - val_mean_absolute_error: 1.7548 - val_mean_squared_error: 5.0573\n",
      "Epoch 21/200\n",
      "700/700 [==============================] - 341s 488ms/step - loss: 5.8945 - root_mean_squared_error: 2.4282 - mean_absolute_error: 1.8758 - mean_squared_error: 5.8962 - val_loss: 5.8945 - val_root_mean_squared_error: 2.2488 - val_mean_absolute_error: 1.7548 - val_mean_squared_error: 5.0573\n",
      "Epoch 22/200\n",
      "700/700 [==============================] - 300s 428ms/step - loss: 5.9232 - root_mean_squared_error: 2.4282 - mean_absolute_error: 1.8758 - mean_squared_error: 5.8962 - val_loss: 5.8945 - val_root_mean_squared_error: 2.2489 - val_mean_absolute_error: 1.7548 - val_mean_squared_error: 5.0573\n",
      "Epoch 23/200\n",
      "700/700 [==============================] - 297s 425ms/step - loss: 5.8455 - root_mean_squared_error: 2.4282 - mean_absolute_error: 1.8758 - mean_squared_error: 5.8962 - val_loss: 5.8945 - val_root_mean_squared_error: 2.2489 - val_mean_absolute_error: 1.7548 - val_mean_squared_error: 5.0573\n",
      "Epoch 24/200\n",
      "700/700 [==============================] - 320s 458ms/step - loss: 5.8183 - root_mean_squared_error: 2.4282 - mean_absolute_error: 1.8758 - mean_squared_error: 5.8962 - val_loss: 5.8945 - val_root_mean_squared_error: 2.2489 - val_mean_absolute_error: 1.7548 - val_mean_squared_error: 5.0573\n",
      "Epoch 25/200\n",
      "700/700 [==============================] - 305s 435ms/step - loss: 5.9531 - root_mean_squared_error: 2.4282 - mean_absolute_error: 1.8758 - mean_squared_error: 5.8962 - val_loss: 5.8945 - val_root_mean_squared_error: 2.2489 - val_mean_absolute_error: 1.7548 - val_mean_squared_error: 5.0573\n",
      "Epoch 26/200\n",
      "700/700 [==============================] - 323s 462ms/step - loss: 5.8576 - root_mean_squared_error: 2.4282 - mean_absolute_error: 1.8758 - mean_squared_error: 5.8962 - val_loss: 5.8945 - val_root_mean_squared_error: 2.2488 - val_mean_absolute_error: 1.7548 - val_mean_squared_error: 5.0573\n",
      "Epoch 27/200\n",
      "700/700 [==============================] - 309s 441ms/step - loss: 5.9113 - root_mean_squared_error: 2.4282 - mean_absolute_error: 1.8758 - mean_squared_error: 5.8962 - val_loss: 5.8945 - val_root_mean_squared_error: 2.2488 - val_mean_absolute_error: 1.7548 - val_mean_squared_error: 5.0573\n",
      "Epoch 28/200\n",
      "700/700 [==============================] - 345s 494ms/step - loss: 5.9109 - root_mean_squared_error: 2.4282 - mean_absolute_error: 1.8758 - mean_squared_error: 5.8962 - val_loss: 5.8945 - val_root_mean_squared_error: 2.2488 - val_mean_absolute_error: 1.7548 - val_mean_squared_error: 5.0573\n",
      "Epoch 29/200\n",
      "700/700 [==============================] - 323s 462ms/step - loss: 5.8916 - root_mean_squared_error: 2.4282 - mean_absolute_error: 1.8758 - mean_squared_error: 5.8962 - val_loss: 5.8945 - val_root_mean_squared_error: 2.2488 - val_mean_absolute_error: 1.7548 - val_mean_squared_error: 5.0573\n",
      "Epoch 30/200\n",
      "700/700 [==============================] - 298s 426ms/step - loss: 5.8701 - root_mean_squared_error: 2.4282 - mean_absolute_error: 1.8758 - mean_squared_error: 5.8962 - val_loss: 5.8945 - val_root_mean_squared_error: 2.2489 - val_mean_absolute_error: 1.7548 - val_mean_squared_error: 5.0574\n",
      "Epoch 31/200\n",
      "568/700 [=======================>......] - ETA: 51s - loss: 5.8847 - root_mean_squared_error: 2.4336 - mean_absolute_error: 1.8807 - mean_squared_error: 5.9223\u001b[34m\u001b[1mwandb\u001b[0m: Ctrl + C detected. Stopping sweep.\n"
     ]
    }
   ],
   "source": [
    "count = 5 # number of runs to execute\n",
    "wandb.agent(sweep_id, function=sweep_train, count=count)"
   ]
  },
  {
   "source": [
    "# Analyse performance"
   ],
   "cell_type": "markdown",
   "metadata": {}
  },
  {
   "cell_type": "code",
   "execution_count": null,
   "metadata": {},
   "outputs": [],
   "source": [
    "performance = MLForecast.postprocessing.PerformanceAnalyser(my_model.model, test_np)\n",
    "mae_all = performance.by_metrics(\"mae\")\n",
    "mae_single = performance.by_metrics(\"mae\", by_individual_column=True)\n",
    "\n",
    "performance_report = performance.report()\n",
    "\n",
    "suptitle = \"Model-Performance für Station 15444\"\n",
    "subtitles = [\"Wind in X Richtung\", \"Wind in Y Richtung\"]\n",
    "note = f\"Samples per col: {len(mae_single[0])}; Name of run: {wandb.run.name}\"\n",
    "xtitle = \"Prognosezeitpunkt\"\n",
    "ytitle = \"Absoluter Fehler\"\n",
    "MLForecast.visualize.boxplot(mae_single, suptitle, subtitles, xtitle, ytitle, note=note)"
   ]
  },
  {
   "cell_type": "code",
   "execution_count": null,
   "metadata": {},
   "outputs": [],
   "source": [
    "pprint.pprint(database_report)"
   ]
  },
  {
   "cell_type": "code",
   "execution_count": null,
   "metadata": {},
   "outputs": [],
   "source": []
  }
 ]
}