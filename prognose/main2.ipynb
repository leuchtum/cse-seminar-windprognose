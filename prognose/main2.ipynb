{
 "cells": [
  {
   "cell_type": "code",
   "execution_count": null,
   "metadata": {},
   "outputs": [],
   "source": [
    "import sys\n",
    "IN_COLAB = 'google.colab' in sys.modules\n",
    "if IN_COLAB:\n",
    "    print(\"Session runs on GOOGLE COLAB\")\n",
    "    !pip3 install wandb\n",
    "    !git clone https://github.com/leuchtum/cse-seminar-windprognose.git\n",
    "    sys.path.append('/content/cse-seminar-windprognose/prognose/')\n",
    "else:\n",
    "    print(\"Session runs on LOCAL MACHINE\")"
   ]
  },
  {
   "cell_type": "code",
   "execution_count": null,
   "metadata": {},
   "outputs": [],
   "source": [
    "import pandas as pd\n",
    "import pickle\n",
    "import MLForecast.networks\n",
    "import MLForecast.postprocessing\n",
    "import pprint"
   ]
  },
  {
   "cell_type": "code",
   "execution_count": null,
   "metadata": {},
   "outputs": [],
   "source": [
    "!wget -O zip.zip \"https://sync.luckycloud.de/f/653ae933e58a4f19a3ec/?dl=1\"\n",
    "!unzip -o zip.zip -d data/"
   ]
  },
  {
   "cell_type": "code",
   "execution_count": null,
   "metadata": {},
   "outputs": [],
   "source": [
    "PATH = \"data/RNNseq2vec_HORI12_HIST144_POLxy_SINGLE0/\"\n",
    "INDENT = \"RNNseq2vec_HORI12_HIST144_POLxy_SINGLE0\"\n",
    "SEP = \"_\"\n",
    "    \n",
    "def load_from_others(name):\n",
    "  filename = PATH + INDENT + \"_\" + name + \".pkl\"\n",
    "  with open(filename, \"rb\") as loadfile:\n",
    "    print(f\"READ IN {filename}\")\n",
    "    f = pickle.load(loadfile)\n",
    "  return f\n",
    "\n",
    "df_dwd = load_from_others(\"dwddf\")\n",
    "df = load_from_others(\"rootdf\")\n",
    "\n",
    "test_np = load_from_others(\"testnp\")\n",
    "val_np = load_from_others(\"valnp\")\n",
    "train_np = load_from_others(\"trainnp\")\n",
    "\n",
    "test_df = load_from_others(\"testdf\")\n",
    "val_df = load_from_others(\"valdf\")\n",
    "train_df = load_from_others(\"traindf\")\n",
    "\n",
    "database_report = load_from_others(\"report\")"
   ]
  },
  {
   "cell_type": "code",
   "execution_count": null,
   "metadata": {},
   "outputs": [],
   "source": [
    "EARLY_STOP = 8\n",
    "EPOCHS = 50\n",
    "TRACK_WANDB = False\n",
    "SAVE = True\n",
    "\n",
    "structure = [\"LSTM_x\", \"DROP_d\", \"DENSE_y\", \"OUT\"]\n",
    "network_config = {\n",
    "    \"x\": 64,\n",
    "    \"y\": 64,\n",
    "    \"d\": 0.3\n",
    "}\n",
    "\n",
    "my_model = MLForecast.networks.LSTMseq2vec(structure, network_config)\n",
    "my_model.set_input_shape(train_df[0][0].shape)\n",
    "my_model.set_output_shape(train_df[1][0].shape)\n",
    "my_model.build()\n",
    "my_model.compile()\n",
    "\n",
    "my_model.fit(train_np, val_np, early_stop=EARLY_STOP,\n",
    "             epochs=EPOCHS, track_wandb=TRACK_WANDB, save=SAVE)\n",
    "\n",
    "my_model.load()\n",
    "\n",
    "performance = MLForecast.postprocessing.PerformanceAnalyser(\n",
    "    my_model.model, test_np)\n",
    "performance_report = performance.report()\n",
    "\n",
    "pprint.pprint({\n",
    "    \"structure\": structure,\n",
    "    \"name\": my_model.name,\n",
    "    \"config\": network_config,\n",
    "    \"report\": performance_report\n",
    "})\n"
   ]
  }
 ],
 "metadata": {
  "interpreter": {
   "hash": "dea8fe3ec6eb0dda4c59cf307d85b7315cf01b5d4d9c54ca7602c5a7c04d1fae"
  },
  "kernelspec": {
   "display_name": "Python 3.9.5 64-bit ('.projectvenv': venv)",
   "name": "python3"
  },
  "language_info": {
   "name": "python",
   "version": ""
  },
  "orig_nbformat": 4
 },
 "nbformat": 4,
 "nbformat_minor": 2
}